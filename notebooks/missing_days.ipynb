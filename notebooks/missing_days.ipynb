{
 "cells": [
  {
   "cell_type": "code",
   "execution_count": 1,
   "metadata": {},
   "outputs": [
    {
     "ename": "ModuleNotFoundError",
     "evalue": "No module named 'pandas'",
     "output_type": "error",
     "traceback": [
      "\u001b[0;31m---------------------------------------------------------------------------\u001b[0m",
      "\u001b[0;31mModuleNotFoundError\u001b[0m                       Traceback (most recent call last)",
      "Cell \u001b[0;32mIn[1], line 1\u001b[0m\n\u001b[0;32m----> 1\u001b[0m \u001b[38;5;28;01mimport\u001b[39;00m \u001b[38;5;21;01mpandas\u001b[39;00m \u001b[38;5;28;01mas\u001b[39;00m \u001b[38;5;21;01mpd\u001b[39;00m\n\u001b[1;32m      3\u001b[0m \u001b[38;5;66;03m# Load the interpolated data\u001b[39;00m\n\u001b[1;32m      4\u001b[0m df \u001b[38;5;241m=\u001b[39m pd\u001b[38;5;241m.\u001b[39mread_csv(\u001b[38;5;124m\"\u001b[39m\u001b[38;5;124mdata/processed/interpolated_cgm.csv\u001b[39m\u001b[38;5;124m\"\u001b[39m, parse_dates\u001b[38;5;241m=\u001b[39m[\u001b[38;5;124m\"\u001b[39m\u001b[38;5;124mtime\u001b[39m\u001b[38;5;124m\"\u001b[39m])\n",
      "\u001b[0;31mModuleNotFoundError\u001b[0m: No module named 'pandas'"
     ]
    }
   ],
   "source": [
    "import pandas as pd\n",
    "\n",
    "# Load the interpolated data\n",
    "df = pd.read_csv(\"data/processed/interpolated_cgm.csv\", parse_dates=[\"time\"])"
   ]
  },
  {
   "cell_type": "code",
   "execution_count": null,
   "metadata": {},
   "outputs": [],
   "source": [
    "\n",
    "\n",
    "# Define a threshold for acceptable NaNs (e.g., 10% of a 24-hour period = 288 * 0.1 = 28 max NaNs)\n",
    "nan_threshold = 288*0.2  # Adjust based on your tolerance\n",
    "\n",
    "# Group by ID and date\n",
    "df[\"date\"] = df[\"time\"].dt.date\n",
    "valid_days = df.groupby([\"ID\", \"date\"]).apply(lambda group: group[\"glc\"].isna().sum() <= nan_threshold)\n",
    "\n",
    "# Initial number of days\n",
    "initial_days = df.groupby([\"ID\", \"date\"]).ngroups\n",
    "print(f\"Initial number of days: {initial_days}\")\n",
    "\n",
    "# Filter out invalid days\n",
    "valid_days = valid_days[valid_days].index  # Get valid (ID, date) pairs\n",
    "df = df[df.set_index([\"ID\", \"date\"]).index.isin(valid_days)]\n",
    "\n",
    "# Remaining number of days\n",
    "remaining_days = df.groupby([\"ID\", df[\"time\"].dt.date]).ngroups\n",
    "print(f\"Remaining number of days after filtering: {remaining_days}\")\n",
    "\n",
    "# Save cleaned data\n",
    "df.to_csv(\"data/processed/final_cleaned_cgm.csv\", index=False)\n",
    "print(\"Data cleaned and saved!\")\n"
   ]
  },
  {
   "cell_type": "code",
   "execution_count": null,
   "metadata": {},
   "outputs": [],
   "source": [
    "# Calculate number of missing values per day\n",
    "nan_counts = df.groupby([\"ID\", df[\"time\"].dt.date])[\"glc\"].apply(lambda group: group.isna().sum())\n",
    "\n",
    "# Summary statistics for NaN counts\n",
    "print(nan_counts.describe())\n",
    "\n",
    "# Plot distribution\n",
    "import matplotlib.pyplot as plt\n",
    "nan_counts.hist(bins=50)\n",
    "plt.title(\"Distribution of Missing Values per Day\")\n",
    "plt.xlabel(\"Number of Missing Values\")\n",
    "plt.ylabel(\"Frequency\")\n",
    "plt.show()\n"
   ]
  }
 ],
 "metadata": {
  "kernelspec": {
   "display_name": "venv",
   "language": "python",
   "name": "python3"
  },
  "language_info": {
   "codemirror_mode": {
    "name": "ipython",
    "version": 3
   },
   "file_extension": ".py",
   "mimetype": "text/x-python",
   "name": "python",
   "nbconvert_exporter": "python",
   "pygments_lexer": "ipython3",
   "version": "3.9.16"
  }
 },
 "nbformat": 4,
 "nbformat_minor": 2
}
